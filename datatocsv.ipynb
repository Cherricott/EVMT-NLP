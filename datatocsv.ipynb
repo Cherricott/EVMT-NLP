{
 "cells": [
  {
   "cell_type": "code",
   "execution_count": 1,
   "metadata": {},
   "outputs": [
    {
     "name": "stderr",
     "output_type": "stream",
     "text": [
      "Processing files: 100%|██████████| 1000/1000 [00:37<00:00, 26.83it/s]\n"
     ]
    },
    {
     "name": "stdout",
     "output_type": "stream",
     "text": [
      "✅ Dataset saved to t5_training_data_full.csv with 45308 sentence pairs.\n"
     ]
    }
   ],
   "source": [
    "import os\n",
    "import pandas as pd\n",
    "from bs4 import BeautifulSoup\n",
    "from tqdm import tqdm\n",
    "\n",
    "# Path to the folder containing all .sgml files\n",
    "folder_path = 'EVBCorpus_EVBNews_v2.0/'\n",
    "\n",
    "# Initialize list to collect all pairs\n",
    "all_pairs = []\n",
    "\n",
    "# Loop through all .sgml files\n",
    "for filename in tqdm(os.listdir(folder_path), desc='Processing files'):\n",
    "    if filename.endswith('.sgml'):\n",
    "        file_path = os.path.join(folder_path, filename)\n",
    "        with open(file_path, 'r', encoding='utf-8') as file:\n",
    "            content = file.read()\n",
    "\n",
    "        soup = BeautifulSoup(content, 'xml')\n",
    "\n",
    "        # Extract English-Vietnamese pairs from each file\n",
    "        for spair in soup.find_all('spair'):\n",
    "            en = spair.find('s', {'id': lambda x: x and x.startswith('en')})\n",
    "            vn = spair.find('s', {'id': lambda x: x and x.startswith('vn')})\n",
    "            if en and vn:\n",
    "                all_pairs.append({\n",
    "                    'source': en.text.strip(),\n",
    "                    'target': vn.text.strip()\n",
    "                })\n",
    "\n",
    "# Convert all pairs to DataFrame\n",
    "df = pd.DataFrame(all_pairs)\n",
    "\n",
    "# Add T5-style translation prefix\n",
    "df['source'] = 'translate English to Vietnamese: ' + df['source']\n",
    "\n",
    "# Export to CSV ready for T5 fine-tuning\n",
    "output_csv_path = 't5_training_data_full.csv'\n",
    "df.to_csv(output_csv_path, index=False, encoding='utf-8')\n",
    "\n",
    "print(f\"✅ Dataset saved to {output_csv_path} with {len(df)} sentence pairs.\")\n"
   ]
  }
 ],
 "metadata": {
  "kernelspec": {
   "display_name": "Python 3",
   "language": "python",
   "name": "python3"
  },
  "language_info": {
   "codemirror_mode": {
    "name": "ipython",
    "version": 3
   },
   "file_extension": ".py",
   "mimetype": "text/x-python",
   "name": "python",
   "nbconvert_exporter": "python",
   "pygments_lexer": "ipython3",
   "version": "3.11.6"
  }
 },
 "nbformat": 4,
 "nbformat_minor": 2
}
